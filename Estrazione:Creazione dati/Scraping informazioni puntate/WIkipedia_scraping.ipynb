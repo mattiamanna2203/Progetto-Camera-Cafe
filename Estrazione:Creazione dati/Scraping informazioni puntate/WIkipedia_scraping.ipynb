{
 "cells": [
  {
   "cell_type": "markdown",
   "id": "2a779193",
   "metadata": {},
   "source": [
    "Web scraping molto basico, senza selenium o utilizzo di BeautifulSoup."
   ]
  },
  {
   "cell_type": "code",
   "execution_count": null,
   "id": "bb75cd25",
   "metadata": {},
   "outputs": [],
   "source": [
    "# Importazione pacchetti\n",
    "import pandas as pd\n",
    "import requests\n",
    "import time \n",
    "\n",
    "path_esportazione = \"/Dati\"\n",
    "\n",
    "# Pagine wikipedia dalle quali prendere le tabelle \n",
    "tables_links= [\"https://it.wikipedia.org/wiki/Episodi_di_Camera_Café_(prima_stagione)\",\n",
    "               \"https://it.wikipedia.org/wiki/Episodi_di_Camera_Café_(seconda_stagione)\",\n",
    "               \"https://it.wikipedia.org/wiki/Episodi_di_Camera_Café_(terza_stagione)\",\n",
    "               \"https://it.wikipedia.org/wiki/Episodi_di_Camera_Café_(quarta_stagione)\",\n",
    "               \"https://it.wikipedia.org/wiki/Episodi_di_Camera_Café_(quinta_stagione)\",\n",
    "               \"https://it.wikipedia.org/wiki/Episodi_di_Camera_Café_(sesta_stagione)\"]\n",
    "\n",
    "for i in  range(len(tables_links)):\n",
    "   #Estrazione ed elaborazione dell'html\n",
    "   url=requests.get(tables_links[i])\n",
    "   tabs = pd.read_html(url.text)\n",
    "\n",
    "\n",
    "   df = pd.DataFrame(tabs[0])\n",
    "   #display(df)\n",
    "\n",
    "   df.to_csv(f\"{path_esportazione}/dati_season_{i+1}.csv\")\n",
    "   time.sleep(1)"
   ]
  }
 ],
 "metadata": {
  "kernelspec": {
   "display_name": "camera_cafe",
   "language": "python",
   "name": "python3"
  },
  "language_info": {
   "codemirror_mode": {
    "name": "ipython",
    "version": 3
   },
   "file_extension": ".py",
   "mimetype": "text/x-python",
   "name": "python",
   "nbconvert_exporter": "python",
   "pygments_lexer": "ipython3",
   "version": "3.8.10"
  }
 },
 "nbformat": 4,
 "nbformat_minor": 5
}

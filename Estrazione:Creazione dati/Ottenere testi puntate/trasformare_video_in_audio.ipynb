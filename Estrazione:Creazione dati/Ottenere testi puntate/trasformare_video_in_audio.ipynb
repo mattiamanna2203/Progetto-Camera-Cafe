{
 "cells": [
  {
   "cell_type": "markdown",
   "metadata": {},
   "source": [
    "# Introduzione\n",
    "\n",
    "Utilizzare il conda environment **trascrizione_audio**"
   ]
  },
  {
   "cell_type": "markdown",
   "metadata": {},
   "source": [
    "Questa sezione è dedicata a modelli per la trascrizione di audio in testo.    \n",
    "Tuttavia spesso è utile trasformare il contenuto di un video in testo, per fare ciò occorre quindi trasformare i video in audio.    \n",
    "Questo script mira proprio a questo, ovvero alla trasformazione **video** in **audio**.   "
   ]
  },
  {
   "cell_type": "markdown",
   "metadata": {},
   "source": [
    "### Utilizzare il pacchetto **pydub** per trasformare video in file audio."
   ]
  },
  {
   "cell_type": "code",
   "execution_count": 4,
   "metadata": {},
   "outputs": [],
   "source": [
    "import os # Muoversi tra le directory\n",
    "from pydub import AudioSegment # Trasforma video in audio\n",
    "from tqdm import tqdm # Barra di progresso\n",
    "\n",
    "# Pacchetti per parallelizzare \n",
    "import concurrent.futures\n",
    "import multiprocessing"
   ]
  },
  {
   "cell_type": "code",
   "execution_count": null,
   "metadata": {},
   "outputs": [],
   "source": [
    "# Path della cartella nella quale sono i file da convertire\n",
    "path = \"...\"\n",
    "\n",
    "# Path per specificare dove salvare gli audio  che verranno convertiti\n",
    "path_destination_audio= \"/Modelli per Trascrizione Audio/\"\n",
    "\n",
    "# Andare alla cartella  nella quale ci sono i file da convertire\n",
    "os.chdir(path)\n",
    "\n",
    "# Ottenere una lista di tutti i file nella cartella, così si avrà una lista dei file da convertire\n",
    "puntate = os.listdir()"
   ]
  },
  {
   "cell_type": "code",
   "execution_count": 6,
   "metadata": {},
   "outputs": [],
   "source": [
    "# Funzione per convertire un singolo file\n",
    "def convert_video_to_audio(video_file : str,\n",
    "                           path:str,\n",
    "                           path_destination_audio : str\n",
    "                          ):\n",
    "    \"\"\"Questa funzione prende  un file video  tramite il path e lo trasforma in un audio.\n",
    "       Va specificato il nome del file, il path nella directory dove si trova, il path della directory dove inserire il file audio risultante. \n",
    "    \"\"\"\n",
    "    try:\n",
    "        # Ignora file che non sono video\n",
    "        if not video_file.lower().endswith(('.mp4', '.mkv', '.avi', '.mov', '.wmv', '.flv')):\n",
    "            return None\n",
    "            \n",
    "        # Percorso completo del file video\n",
    "        video_path = os.path.join(path, video_file)\n",
    "        \n",
    "        # Nome del file audio di output\n",
    "        audio_filename = os.path.splitext(video_file)[0] + \".mp3\"\n",
    "        audio_path = os.path.join(path_destination_audio, audio_filename)\n",
    "        \n",
    "        # Convertire il video in audio\n",
    "        audio = AudioSegment.from_file(video_path)\n",
    "        \n",
    "        # Salva l'audio estratto come MP3\n",
    "        audio.export(audio_path, format=\"mp3\")\n",
    "        \n",
    "        print(f\"✅ Convertito in: {audio_filename}\")\n",
    "        return None\n",
    "    except Exception as e:\n",
    "        return (video_file, str(e))"
   ]
  },
  {
   "cell_type": "code",
   "execution_count": 7,
   "metadata": {},
   "outputs": [
    {
     "name": "stdout",
     "output_type": "stream",
     "text": [
      "Utilizzo di 7 core per la conversione (1 core lasciato libero)\n"
     ]
    }
   ],
   "source": [
    "# Calcola il numero di processi da utilizzare (lasciando un core libero)\n",
    "max_workers = max(1, multiprocessing.cpu_count() - 1)\n",
    "print(f\"Utilizzo di {max_workers} core per la conversione (1 core lasciato libero)\")\n",
    "\n",
    "file_problemi = []"
   ]
  },
  {
   "cell_type": "code",
   "execution_count": null,
   "metadata": {},
   "outputs": [],
   "source": [
    "# Utilizzo del ThreadPoolExecutor per la parallelizzazione\n",
    "with concurrent.futures.ThreadPoolExecutor(max_workers=max_workers) as executor:\n",
    "    # Prepara i job per l'esecuzione parallela\n",
    "    futures = {executor.submit(convert_video_to_audio,\n",
    "                                    video_file=file,\n",
    "                                    path_destination_audio=path_destination_audio,\n",
    "                                    path=path): file for file in puntate}\n",
    "    \n",
    "    # Monitora il progresso man mano che i job vengono completati\n",
    "    for future in tqdm(concurrent.futures.as_completed(futures), total=len(futures)):\n",
    "        file_name = futures[future]\n",
    "        try:\n",
    "            result = future.result()\n",
    "            if result:  # Se c'è stato un errore\n",
    "                file_problemi.append(result)\n",
    "                print(f\"❌ Errore per il file: {result[0]} - {result[1]}\")\n",
    "        except Exception as e:\n",
    "            file_problemi.append((file_name, str(e)))\n",
    "            print(f\"❌ Errore per il file: {file_name} - {str(e)}\")"
   ]
  }
 ],
 "metadata": {
  "kernelspec": {
   "display_name": "trascrizione_audio",
   "language": "python",
   "name": "python3"
  },
  "language_info": {
   "codemirror_mode": {
    "name": "ipython",
    "version": 3
   },
   "file_extension": ".py",
   "mimetype": "text/x-python",
   "name": "python",
   "nbconvert_exporter": "python",
   "pygments_lexer": "ipython3",
   "version": "3.9.20"
  }
 },
 "nbformat": 4,
 "nbformat_minor": 2
}

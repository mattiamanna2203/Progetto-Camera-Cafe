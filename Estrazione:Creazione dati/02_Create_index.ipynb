{
 "cells": [
  {
   "cell_type": "markdown",
   "id": "ab72e1f6-4a05-4870-9508-2717bbbffc9f",
   "metadata": {
    "tags": []
   },
   "source": [
    "# Importazione "
   ]
  },
  {
   "cell_type": "markdown",
   "id": "590a8cbc",
   "metadata": {},
   "source": [
    "Selezionare il conda environment **camera_cafe**\n",
    "\n",
    "Questo script serve per creare gli inverted indexes e vocabulary per i vari casi.   \n",
    "In particolare si distinguono due casi:\n",
    "   - Ricerca su **Titolo episodio** e **Trama**\n",
    "\n",
    "   - Ricerca su **Copione episodio**\n",
    "\n",
    "Forse sarebbe il caso di utilizzare funzioni di stemming diverse per il titolo ed il copione episodio\n"
   ]
  },
  {
   "cell_type": "markdown",
   "id": "776e478b-67ea-4649-98fe-1f09dc6d3f0e",
   "metadata": {
    "tags": []
   },
   "source": [
    "## Importazione pacchetti"
   ]
  },
  {
   "cell_type": "code",
   "execution_count": 1,
   "id": "a809428f-0be7-41cb-8950-ae444da1810d",
   "metadata": {},
   "outputs": [],
   "source": [
    "import pandas as pd # Lavorare su dataframes\n",
    "import json         # Lavorare con file json\n",
    "import re           # Lavorare con regular expression\n",
    "import numpy as np  # Lavorare con matrici \n",
    "\n",
    "# Pacchetti per calcolare i valori  tf-idf\n",
    "from sklearn.feature_extraction.text import TfidfVectorizer # TF IDF\n",
    "from sklearn.metrics.pairwise import cosine_similarity      # Cosine similarity\n",
    "\n",
    "\n",
    "from collections import Counter # Dizionario speciale\n",
    "from functools import reduce\n",
    "\n",
    "import math\n",
    "\n",
    "# Pacchetti per lavorare sul testo \n",
    "import spacy                              # Per lemmatizzazione\n",
    "nlp = spacy.load('it_core_news_sm') # Caricare lemmatizzazione italiana\n",
    "\n",
    "from nltk.stem import SnowballStemmer # Stemming\n",
    "stemmer_snowball = SnowballStemmer('italian') # Definire lo stemmer per la lingua italiana\n",
    "\n",
    "import unicodedata # Questo pacchetto serve per normalizzare le stringhe.  \n",
    "                   # Ad esempio le due stringhe \"l'amore è cieco\"==\"l'amore è cieco\"\n",
    "                   # risultavano diverse, alcuni caratteri nascosti le facevano sembrare diverse in termini di significato\n",
    "                   # per un umano fossero uguali (si possono capire le differenze tramite il seguente for loop)\n",
    "                   # for a, b in zip(r\"l'amore è cieco\", r\"l'amore è cieco\"):\n",
    "                   #    print(a, b, a == b)  \n",
    "                   # Tramite il pacchetto unicodedata si possono normalizzare le stringhe e renderle uguali\n",
    "\n",
    "\n",
    "# Importare le funzioni\n",
    "from  lemmatizzatore import lemmatizzazione"
   ]
  },
  {
   "cell_type": "markdown",
   "id": "fc7a6f25-5667-4591-ba90-909e30884ee0",
   "metadata": {
    "tags": []
   },
   "source": [
    "## Importazione dati"
   ]
  },
  {
   "cell_type": "markdown",
   "id": "f2601596",
   "metadata": {},
   "source": [
    "Importare il dataset creato nel file **01_PuliziaDati** con tutte le informazioni necessarie, titolo episodio, trama, trascrizione della puntata, ecc...."
   ]
  },
  {
   "cell_type": "code",
   "execution_count": null,
   "id": "1d87b23e-fd34-48d8-a57c-f5262d85b048",
   "metadata": {},
   "outputs": [
    {
     "data": {
      "text/html": [
       "<div>\n",
       "<style scoped>\n",
       "    .dataframe tbody tr th:only-of-type {\n",
       "        vertical-align: middle;\n",
       "    }\n",
       "\n",
       "    .dataframe tbody tr th {\n",
       "        vertical-align: top;\n",
       "    }\n",
       "\n",
       "    .dataframe thead th {\n",
       "        text-align: right;\n",
       "    }\n",
       "</style>\n",
       "<table border=\"1\" class=\"dataframe\">\n",
       "  <thead>\n",
       "    <tr style=\"text-align: right;\">\n",
       "      <th></th>\n",
       "      <th>season</th>\n",
       "      <th>episodio</th>\n",
       "      <th>titolo</th>\n",
       "      <th>trama</th>\n",
       "      <th>trascrizione_puntata</th>\n",
       "      <th>guest_star</th>\n",
       "      <th>prima_visione</th>\n",
       "      <th>title_trama</th>\n",
       "      <th>-</th>\n",
       "      <th>Adriana De Guilmi</th>\n",
       "      <th>...</th>\n",
       "      <th>Valeria</th>\n",
       "      <th>Brad</th>\n",
       "      <th>Jonathan</th>\n",
       "      <th>Signora Bollini</th>\n",
       "      <th>Mamma di Silvano</th>\n",
       "      <th>Wanda</th>\n",
       "      <th>Vittorio</th>\n",
       "      <th>Carminati</th>\n",
       "      <th>Caterina</th>\n",
       "      <th>Roberto</th>\n",
       "    </tr>\n",
       "  </thead>\n",
       "  <tbody>\n",
       "    <tr>\n",
       "      <th>0</th>\n",
       "      <td>1</td>\n",
       "      <td>0</td>\n",
       "      <td>Sketch Promo</td>\n",
       "      <td>Sketch Promo la prima puntata di camera cafe</td>\n",
       "      <td>Buongiorno signori. Buongiorno direttore, il ...</td>\n",
       "      <td>NaN</td>\n",
       "      <td>NaN</td>\n",
       "      <td>Sketch Promo  Sketch Promo la prima puntata d...</td>\n",
       "      <td>0</td>\n",
       "      <td>0</td>\n",
       "      <td>...</td>\n",
       "      <td>0</td>\n",
       "      <td>0</td>\n",
       "      <td>0</td>\n",
       "      <td>0</td>\n",
       "      <td>0</td>\n",
       "      <td>0</td>\n",
       "      <td>0</td>\n",
       "      <td>0</td>\n",
       "      <td>0</td>\n",
       "      <td>0</td>\n",
       "    </tr>\n",
       "    <tr>\n",
       "      <th>1</th>\n",
       "      <td>1</td>\n",
       "      <td>1</td>\n",
       "      <td>Passaportafogli</td>\n",
       "      <td>Paolo dimentica il suo portafogli su un taxi e...</td>\n",
       "      <td>Musica Ma che schifo, cosa fai? Mangi i corne...</td>\n",
       "      <td>NaN</td>\n",
       "      <td>6 ottobre 2003</td>\n",
       "      <td>Passaportafogli Paolo dimentica il suo portafo...</td>\n",
       "      <td>0</td>\n",
       "      <td>0</td>\n",
       "      <td>...</td>\n",
       "      <td>0</td>\n",
       "      <td>0</td>\n",
       "      <td>0</td>\n",
       "      <td>0</td>\n",
       "      <td>0</td>\n",
       "      <td>0</td>\n",
       "      <td>0</td>\n",
       "      <td>0</td>\n",
       "      <td>0</td>\n",
       "      <td>0</td>\n",
       "    </tr>\n",
       "  </tbody>\n",
       "</table>\n",
       "<p>2 rows × 476 columns</p>\n",
       "</div>"
      ],
      "text/plain": [
       "   season episodio           titolo  \\\n",
       "0       1        0     Sketch Promo   \n",
       "1       1        1  Passaportafogli   \n",
       "\n",
       "                                               trama  \\\n",
       "0       Sketch Promo la prima puntata di camera cafe   \n",
       "1  Paolo dimentica il suo portafogli su un taxi e...   \n",
       "\n",
       "                                trascrizione_puntata guest_star  \\\n",
       "0   Buongiorno signori. Buongiorno direttore, il ...        NaN   \n",
       "1   Musica Ma che schifo, cosa fai? Mangi i corne...        NaN   \n",
       "\n",
       "    prima_visione                                        title_trama  -  \\\n",
       "0             NaN   Sketch Promo  Sketch Promo la prima puntata d...  0   \n",
       "1  6 ottobre 2003  Passaportafogli Paolo dimentica il suo portafo...  0   \n",
       "\n",
       "   Adriana De Guilmi  ...  Valeria  Brad  Jonathan  Signora Bollini  \\\n",
       "0                  0  ...        0     0         0                0   \n",
       "1                  0  ...        0     0         0                0   \n",
       "\n",
       "   Mamma di Silvano  Wanda  Vittorio  Carminati  Caterina  Roberto  \n",
       "0                 0      0         0          0         0        0  \n",
       "1                 0      0         0          0         0        0  \n",
       "\n",
       "[2 rows x 476 columns]"
      ]
     },
     "execution_count": 2,
     "metadata": {},
     "output_type": "execute_result"
    }
   ],
   "source": [
    "# Importare il dataset contenente tutti i dati per ogni episodio\n",
    "df=pd.read_csv(filepath_or_buffer=\"/Dati/dati_puliti.csv\",\n",
    "               index_col=\"Unnamed: 0\" # Indicare la colonna che fa da index\n",
    "               )\n",
    "df.head(2)"
   ]
  },
  {
   "cell_type": "markdown",
   "id": "d704bfbe-8ebf-49ed-afc5-93c9f099e8fe",
   "metadata": {
    "tags": []
   },
   "source": [
    "# Funzioni"
   ]
  },
  {
   "cell_type": "markdown",
   "id": "8e9e9fe4",
   "metadata": {},
   "source": [
    "Definire le funzioni per la pulizia del testo.  \n",
    "   - Lemmatizzazione\n",
    "   - Standardizzazione \n",
    "   - Rimozione punteggiatura"
   ]
  },
  {
   "cell_type": "markdown",
   "id": "c10f8240",
   "metadata": {},
   "source": [
    "## Cleaning generico del testo\n",
    "Rimuovere spazi e punteggiatura"
   ]
  },
  {
   "cell_type": "markdown",
   "id": "cfa09098",
   "metadata": {},
   "source": [
    "## Lemmatizzazione"
   ]
  },
  {
   "cell_type": "markdown",
   "id": "cacc6df4",
   "metadata": {},
   "source": [
    "\n",
    "Lemmatizzazione del testo:\n",
    "   - Portare tutti i verbi all'infinito \n",
    "\n",
    "   - Tutti i nomi al maschile\n",
    "\n",
    "   - articoli ricodificati nella forma maschile\n",
    "\n",
    "   - Preposizioni ricodificati \n",
    "\n",
    "Altre modifiche al testo:\n",
    "\n",
    "   - Rimozione congiunzioni \n",
    "\n",
    "   - Rimozione preposizioni\n",
    "\n",
    "   - Portare tutto ciò che non è un nome in minuscolo \n",
    "\n",
    "   - Ottenere una lista dei personaggi presenti\n",
    "\n",
    "Nota: Questa funzione dovrà essere applicata anche alle query degli utenti\n"
   ]
  },
  {
   "cell_type": "raw",
   "id": "fe4eae31",
   "metadata": {
    "vscode": {
     "languageId": "raw"
    }
   },
   "source": [
    "   universal_pos_tags = [\n",
    "    \"ADJ\",    # Aggettivo: Parola che descrive o qualifica un nome, indicando una proprietà o una caratteristica. Esempi: 'bello', 'grande', 'veloce'.\n",
    "    \"ADP\",    # Adposizione: Preposizioni (e talvolta posposizioni) che introducono complementi. Esempi: 'di', 'a', 'da', 'su', 'con'.\n",
    "    \"ADV\",    # Avverbio: Parola che modifica un verbo, un aggettivo o un altro avverbio. Esempi: 'bene', 'molto', 'sempre', 'rapidamente'.\n",
    "    \"AUX\",    # Verbo ausiliare: Utilizzato per costruire tempi, modi o forme verbali composte. Esempi: 'essere', 'avere' (come in 'ho mangiato', 'sono andato').\n",
    "    \"CCONJ\",  # Congiunzione coordinativa: Collega due elementi di pari importanza. Esempi: 'e', 'ma', 'o', 'però'.\n",
    "    \"DET\",    # Determinante: Parola che specifica o limita il significato del nome. Esempi: 'il', 'un', 'questo', 'quello'.\n",
    "    \"INTJ\",   # Interiezione: Espressione usata per manifestare emozioni o reazioni spontanee. Esempi: 'oh', 'ah', 'ehi', 'wow'.\n",
    "    \"NOUN\",   # Nome comune: Parola che rappresenta persone, luoghi, oggetti o concetti. Esempi: 'cane', 'libro', 'città', 'amore'.\n",
    "    \"NUM\",    # Numerale: Parola o simbolo che rappresenta un numero o un ordine. Esempi: 'uno', 'due', 'cento', 'primo'.\n",
    "    \"PART\",   # Particella: Parola grammaticale che non rientra in altre categorie. Esempi: 'ne', 'ci' (in frasi come 'ne ho bisogno', 'ci vuole tempo').\n",
    "    \"PRON\",   # Pronome: Parola che sostituisce o si riferisce a un nome. Esempi: 'io', 'tu', 'noi', 'questo', 'quello'.\n",
    "    \"PROPN\",  # Nome proprio: Nome di persona, luogo, organizzazione o entità specifica. Esempi: 'Italia', 'Luca', 'Google'.\n",
    "    \"PUNCT\",  # Punteggiatura: Simboli che separano parti del testo o indicano intonazione. Esempi: '.', ',', ';', '!', '?'.\n",
    "    \"SCONJ\",  # Congiunzione subordinativa: Introduttore di frasi subordinate. Esempi: 'che', 'perché', 'se', 'quando'.\n",
    "    \"SYM\",    # Simbolo: Segni o simboli che non sono lettere o numeri. Esempi: '%', '€', '&'.\n",
    "    \"VERB\",   # Verbo: Parola che esprime un'azione, uno stato o un evento. Esempi: 'correre', 'mangiare', 'essere', 'amare'.\n",
    "    \"X\",      # Altri: Token che non rientrano in nessuna categoria (es. caratteri sconosciuti o non linguistici).\n",
    "    \"SPACE\"   # Spazio: Token che rappresenta spazi vuoti tra le parole.\n",
    "]\n"
   ]
  },
  {
   "cell_type": "markdown",
   "id": "e0e604bd-394a-4d62-87b0-5f52e35e3603",
   "metadata": {
    "tags": []
   },
   "source": [
    "# Creazione index e inverted index"
   ]
  },
  {
   "cell_type": "markdown",
   "id": "3254854b",
   "metadata": {},
   "source": [
    "## Titolo episodio e trama"
   ]
  },
  {
   "cell_type": "code",
   "execution_count": 3,
   "id": "97e3668e-b55f-4d10-b903-0d427d6076f4",
   "metadata": {},
   "outputs": [
    {
     "name": "stderr",
     "output_type": "stream",
     "text": [
      "/opt/anaconda3/envs/camera_cafe/lib/python3.8/site-packages/sklearn/feature_extraction/text.py:525: UserWarning: The parameter 'token_pattern' will not be used since 'tokenizer' is not None'\n",
      "  warnings.warn(\n"
     ]
    }
   ],
   "source": [
    "# Applicare la funzione di lemmatizzazione\n",
    "df['list_words'], output_inutile = zip(*df['title_trama'].apply(lambda row: lemmatizzazione(row) if type(row) != float else ([], [])))\n",
    "\n",
    "# Vocabulary\n",
    "vocabulary_title_trama =Counter(reduce(lambda x, y: x + y, df.list_words))\n",
    "\n",
    "# Word dictionary\n",
    "word_dict_title_trama = {}\n",
    "item_id = 1\n",
    "for word in vocabulary_title_trama.keys():\n",
    "    word_dict_title_trama[word] = item_id\n",
    "    item_id += 1\n",
    "\n",
    "# Inverted indexes\n",
    "inverted_idx_title_trama = {}\n",
    "for word, item_id in word_dict_title_trama.items():\n",
    "    inverted_idx_title_trama[item_id] = list(df[df.list_words.apply(lambda row: word in row)].index)\n",
    "\n",
    "# Tf-IDF\n",
    "tfidf_title_trama = TfidfVectorizer(input='content', lowercase=False, tokenizer=lambda text:  text)\n",
    "result_title_trama = tfidf_title_trama.fit_transform(df.list_words)\n",
    "result_dense_title_trama = result_title_trama.todense()\n",
    "results_dense_list_title_trama = result_dense_title_trama.tolist()"
   ]
  },
  {
   "cell_type": "markdown",
   "id": "33db7e39",
   "metadata": {},
   "source": [
    "## Tutto insieme"
   ]
  },
  {
   "cell_type": "code",
   "execution_count": 4,
   "id": "b099a96d",
   "metadata": {},
   "outputs": [
    {
     "name": "stderr",
     "output_type": "stream",
     "text": [
      "/opt/anaconda3/envs/camera_cafe/lib/python3.8/site-packages/sklearn/feature_extraction/text.py:525: UserWarning: The parameter 'token_pattern' will not be used since 'tokenizer' is not None'\n",
      "  warnings.warn(\n"
     ]
    }
   ],
   "source": [
    "# Applicare la funzione di lemmatizzazione\n",
    "df['list_words_all'], output_inutile = zip(*df['title_trama_trascrizione'].apply(lambda row: lemmatizzazione(row) if type(row) != float else ([], [])))\n",
    "\n",
    "# Vocabulary\n",
    "vocabulary_all =Counter(reduce(lambda x, y: x + y, df.list_words_all))\n",
    "\n",
    "# Word dictionary\n",
    "word_dict_all = {}\n",
    "item_id = 1\n",
    "for word in vocabulary_all.keys():\n",
    "    word_dict_all[word] = item_id\n",
    "    item_id += 1\n",
    "\n",
    "# Inverted indexes\n",
    "inverted_idx_all = {}\n",
    "for word, item_id in word_dict_all.items():\n",
    "    inverted_idx_all[item_id] = list(df[df.list_words_all.apply(lambda row: word in row)].index)\n",
    "\n",
    "# Tf-IDF\n",
    "tfidf_all = TfidfVectorizer(input='content', lowercase=False, tokenizer=lambda text:  text)\n",
    "result_all = tfidf_all.fit_transform(df.list_words_all)\n",
    "result_dense_all = result_all.todense()\n",
    "results_dense_list_all = result_dense_all.tolist()"
   ]
  },
  {
   "cell_type": "markdown",
   "id": "d9f8fe03-d677-4b2c-ba07-6e8ad465c24b",
   "metadata": {
    "tags": []
   },
   "source": [
    "## Esportazione td_idf index, vocabulary, word dictionary, inverted index"
   ]
  },
  {
   "cell_type": "code",
   "execution_count": null,
   "id": "498936d6",
   "metadata": {},
   "outputs": [],
   "source": [
    "df.to_csv(\"/Dati/dati_puliti_aggiornati.csv\") #esportazione dati\n",
    "\n",
    "# Salva il DataFrame in formato Parquet con compressione\n",
    "df.to_parquet(\"/Dati/dati_puliti_aggiornati.parquet\", compression='brotli')"
   ]
  },
  {
   "cell_type": "code",
   "execution_count": null,
   "id": "a1ad8ce2-ee88-4139-8b8e-96d542679285",
   "metadata": {},
   "outputs": [],
   "source": [
    "DF3_title_trama=pd.DataFrame(results_dense_list_title_trama, index=df.index, columns=tfidf_title_trama.get_feature_names_out())\n",
    "DF3_title_trama.to_csv(\"/Dati/tfidf_index_title_trama.csv\")\n",
    "\n",
    "# Salva il DataFrame in formato Parquet con compressione\n",
    "DF3_title_trama.to_parquet(\"/Dati/tfidf_index_title_trama.parquet\", compression='brotli')\n",
    "\n",
    "with open(\"/Dati/vocabulary_title_trama.json\", 'w') as v:\n",
    "    json.dump(vocabulary_title_trama, v, indent=4)\n",
    "    \n",
    "with open(\"/Dati/word_dict_title_trama.json\", 'w') as wd:\n",
    "    json.dump(word_dict_title_trama, wd, indent=4)\n",
    "\n",
    "with open(\"/Dati/inverted_idx_title_trama.json\", 'w') as inv_idx:\n",
    "    json.dump(inverted_idx_title_trama, inv_idx, indent=4)"
   ]
  },
  {
   "cell_type": "code",
   "execution_count": null,
   "id": "9ad3ae9d",
   "metadata": {},
   "outputs": [],
   "source": [
    "DF3_all=pd.DataFrame(results_dense_list_all, index=df.index, columns=tfidf_all.get_feature_names_out())\n",
    "DF3_all.to_csv(\"/Dati/tfidf_index_all.csv\")\n",
    "\n",
    "# Salva il DataFrame in formato Parquet con compressione\n",
    "DF3_all.to_parquet(\"/Dati/tfidf_index_all.parquet\", compression='brotli')\n",
    "\n",
    "\n",
    "\n",
    "with open(\"/Dati/vocabulary_all.json\", 'w') as v:\n",
    "    json.dump(vocabulary_all, v, indent=4)\n",
    "    \n",
    "with open(\"/Dati/word_dict_all.json\", 'w') as wd:\n",
    "    json.dump(word_dict_all, wd, indent=4)\n",
    "\n",
    "with open(\"/Dati/inverted_idx_all.json\", 'w') as inv_idx:\n",
    "    json.dump(inverted_idx_all, inv_idx, indent=4)"
   ]
  }
 ],
 "metadata": {
  "kernelspec": {
   "display_name": "camera_cafe",
   "language": "python",
   "name": "python3"
  },
  "language_info": {
   "codemirror_mode": {
    "name": "ipython",
    "version": 3
   },
   "file_extension": ".py",
   "mimetype": "text/x-python",
   "name": "python",
   "nbconvert_exporter": "python",
   "pygments_lexer": "ipython3",
   "version": "3.8.10"
  }
 },
 "nbformat": 4,
 "nbformat_minor": 5
}
